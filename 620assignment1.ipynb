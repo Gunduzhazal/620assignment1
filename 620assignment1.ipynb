{
 "cells": [
  {
   "cell_type": "code",
   "execution_count": 2,
   "id": "d32d31ec-9fe5-4f7f-a8d8-b4c16a246984",
   "metadata": {},
   "outputs": [
    {
     "name": "stdout",
     "output_type": "stream",
     "text": [
      "[0, 1, 2, 3, 4]\n",
      "[0, 1, 2, 3, 4]\n",
      "[0, 1, 2, 3, 4]\n",
      "[0, 1, 2, 3, 4]\n",
      "[0, 1, 2, 3, 4]\n"
     ]
    }
   ],
   "source": [
    "import networkx as nx\n",
    "G = nx.complete_graph(5)\n",
    "G.nodes((0, 1, 2, 3, 4))\n",
    "for node in G.nodes:\n",
    "    print(G.nodes)"
   ]
  },
  {
   "cell_type": "code",
   "execution_count": 6,
   "id": "357b3dcf-1f0d-48d5-9d1b-037fd6131cd9",
   "metadata": {},
   "outputs": [],
   "source": [
    "G.add_node(1)"
   ]
  },
  {
   "cell_type": "code",
   "execution_count": null,
   "id": "f5973b7c-c051-49cf-af03-b62e20d897e4",
   "metadata": {},
   "outputs": [],
   "source": [
    "G.add_nodes_from([2,3])"
   ]
  },
  {
   "cell_type": "code",
   "execution_count": 16,
   "id": "7ce047ef-38a8-4ed4-a0de-0f5740e92609",
   "metadata": {},
   "outputs": [],
   "source": [
    "G.add_edge(1,2)\n",
    "G.add_edge(3,4)"
   ]
  },
  {
   "cell_type": "code",
   "execution_count": 19,
   "id": "d10bcd2a-a226-4986-a634-ad5c6eb90509",
   "metadata": {},
   "outputs": [],
   "source": [
    "G.add_edges_from([(1,2),(3,4)])"
   ]
  },
  {
   "cell_type": "code",
   "execution_count": 21,
   "id": "1b849e7a-0cfe-421c-830c-d455317b4860",
   "metadata": {},
   "outputs": [
    {
     "data": {
      "text/plain": [
       "[(1, 2), (3, 4)]"
      ]
     },
     "execution_count": 21,
     "metadata": {},
     "output_type": "execute_result"
    }
   ],
   "source": [
    "[(1,2), (3,4)]"
   ]
  }
 ],
 "metadata": {
  "kernelspec": {
   "display_name": "Python 3",
   "language": "python",
   "name": "python3"
  },
  "language_info": {
   "codemirror_mode": {
    "name": "ipython",
    "version": 3
   },
   "file_extension": ".py",
   "mimetype": "text/x-python",
   "name": "python",
   "nbconvert_exporter": "python",
   "pygments_lexer": "ipython3",
   "version": "3.8.8"
  }
 },
 "nbformat": 4,
 "nbformat_minor": 5
}
